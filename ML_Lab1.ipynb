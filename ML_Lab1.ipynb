{
  "nbformat": 4,
  "nbformat_minor": 0,
  "metadata": {
    "colab": {
      "provenance": [],
      "authorship_tag": "ABX9TyPTYQFhoWBGUOe1m4mrCJro",
      "include_colab_link": true
    },
    "kernelspec": {
      "name": "python3",
      "display_name": "Python 3"
    },
    "language_info": {
      "name": "python"
    }
  },
  "cells": [
    {
      "cell_type": "markdown",
      "metadata": {
        "id": "view-in-github",
        "colab_type": "text"
      },
      "source": [
        "<a href=\"https://colab.research.google.com/github/Pudi-Bheemesh/ML_practice1/blob/main/ML_Lab1.ipynb\" target=\"_parent\"><img src=\"https://colab.research.google.com/assets/colab-badge.svg\" alt=\"Open In Colab\"/></a>"
      ]
    },
    {
      "cell_type": "code",
      "source": [
        "import csv"
      ],
      "metadata": {
        "id": "ldLQYQHmWkvb"
      },
      "execution_count": null,
      "outputs": []
    },
    {
      "cell_type": "code",
      "source": [
        "def read_data(filename):\n",
        "  with open(filename,'r') as csvfile:\n",
        "    datareader = csv.reader(csvfile, delimiter=\",\")\n",
        "    traindata = []\n",
        "    for row in datareader:\n",
        "      traindata.append(row)\n",
        "    print(traindata)\n",
        "  return (traindata)"
      ],
      "metadata": {
        "id": "nV6vzPdDWo8c"
      },
      "execution_count": null,
      "outputs": []
    },
    {
      "cell_type": "code",
      "source": [
        "attributes = ['Sky', 'Temp' , 'Humidity', 'Wind' , 'Water', 'Forecast']\n",
        "print(\"Attributes = \", attributes)\n",
        "num = len(attributes)"
      ],
      "metadata": {
        "colab": {
          "base_uri": "https://localhost:8080/"
        },
        "id": "adg9JRPseg3B",
        "outputId": "481718fe-4b99-4b2c-a4ab-661ca1188be1"
      },
      "execution_count": null,
      "outputs": [
        {
          "output_type": "stream",
          "name": "stdout",
          "text": [
            "Attributes =  ['Sky', 'Temp', 'Humidity', 'Wind', 'Water', 'Forecast']\n"
          ]
        }
      ]
    },
    {
      "cell_type": "code",
      "source": [
        "dataset = read_data(\"/content/sample_data/enjoysport (1).csv\")"
      ],
      "metadata": {
        "colab": {
          "base_uri": "https://localhost:8080/"
        },
        "id": "neXegetLf4P5",
        "outputId": "a30cb26c-3fc2-4343-e91b-c1d282c5a329"
      },
      "execution_count": null,
      "outputs": [
        {
          "output_type": "stream",
          "name": "stdout",
          "text": [
            "[['sunny', 'warm', 'normal', 'strong', 'warm', 'same', 'Yes'], ['sunny', 'warm', 'high', 'strong', 'warm', 'same', 'Yes'], ['rainy', 'cold', 'high', 'strong', 'warm', 'change', 'No'], ['sunny', 'warm', 'high', 'strong', 'cool', 'change', 'Yes']]\n"
          ]
        }
      ]
    },
    {
      "cell_type": "code",
      "source": [
        "len(dataset)"
      ],
      "metadata": {
        "colab": {
          "base_uri": "https://localhost:8080/"
        },
        "id": "qcalkjH0hlAT",
        "outputId": "ad0cf882-3736-4f41-ee8d-59a98e774e69"
      },
      "execution_count": null,
      "outputs": [
        {
          "output_type": "execute_result",
          "data": {
            "text/plain": [
              "4"
            ]
          },
          "metadata": {},
          "execution_count": 7
        }
      ]
    },
    {
      "cell_type": "code",
      "source": [
        "dataset"
      ],
      "metadata": {
        "colab": {
          "base_uri": "https://localhost:8080/"
        },
        "id": "WVVtgAYvkgtV",
        "outputId": "a432eb18-fc44-465a-8a87-af8a65d4bb59"
      },
      "execution_count": null,
      "outputs": [
        {
          "output_type": "execute_result",
          "data": {
            "text/plain": [
              "[['sunny', 'warm', 'normal', 'strong', 'warm', 'same', 'Yes'],\n",
              " ['sunny', 'warm', 'high', 'strong', 'warm', 'same', 'Yes'],\n",
              " ['rainy', 'cold', 'high', 'strong', 'warm', 'change', 'No'],\n",
              " ['sunny', 'warm', 'high', 'strong', 'cool', 'change', 'Yes']]"
            ]
          },
          "metadata": {},
          "execution_count": 10
        }
      ]
    },
    {
      "cell_type": "code",
      "source": [
        "hypothesis = [\"0\"] * num\n",
        "print(\"Initial Hypothesis = \",hypothesis)"
      ],
      "metadata": {
        "colab": {
          "base_uri": "https://localhost:8080/"
        },
        "id": "6FqyXEJSiLB5",
        "outputId": "8c0a463a-092e-4fb0-9ac9-cbd705f07cfa"
      },
      "execution_count": null,
      "outputs": [
        {
          "output_type": "stream",
          "name": "stdout",
          "text": [
            "Initial Hypothesis =  ['0', '0', '0', '0', '0', '0']\n"
          ]
        }
      ]
    },
    {
      "cell_type": "code",
      "source": [
        "for j in range(0,num):\n",
        "  hypothesis[j] = dataset[0][j]\n",
        "hypothesis"
      ],
      "metadata": {
        "colab": {
          "base_uri": "https://localhost:8080/"
        },
        "id": "wNOxdYPQkZzb",
        "outputId": "b0042fd8-63bb-4d12-9c60-60546060f516"
      },
      "execution_count": null,
      "outputs": [
        {
          "output_type": "execute_result",
          "data": {
            "text/plain": [
              "['sunny', 'warm', 'normal', 'strong', 'warm', 'same']"
            ]
          },
          "metadata": {},
          "execution_count": 13
        }
      ]
    },
    {
      "cell_type": "code",
      "source": [
        "print(\"\\n Find S: Finding a Maximally Specific Hypothesis\\n\")\n",
        "for i in range(0,len(dataset)):\n",
        "  if dataset[i][num]=='Yes' :\n",
        "    for j in range(0, num):\n",
        "      if dataset[i][j] != hypothesis[j] :\n",
        "        hypothesis[j] = \"?\""
      ],
      "metadata": {
        "colab": {
          "base_uri": "https://localhost:8080/"
        },
        "id": "7R8NFZSul87z",
        "outputId": "aa61b176-ec81-46f9-ec94-8b9dcbca85b8"
      },
      "execution_count": null,
      "outputs": [
        {
          "output_type": "stream",
          "name": "stdout",
          "text": [
            "\n",
            " Find S: Finding a Maximally Specific Hypothesis\n",
            "\n"
          ]
        }
      ]
    },
    {
      "cell_type": "code",
      "source": [
        "hypothesis"
      ],
      "metadata": {
        "colab": {
          "base_uri": "https://localhost:8080/"
        },
        "id": "XCABETpgqQg8",
        "outputId": "cd77814e-b8b6-4b71-a1aa-5ed03730a128"
      },
      "execution_count": null,
      "outputs": [
        {
          "output_type": "execute_result",
          "data": {
            "text/plain": [
              "['sunny', 'warm', '?', 'strong', '?', '?']"
            ]
          },
          "metadata": {},
          "execution_count": 15
        }
      ]
    },
    {
      "cell_type": "code",
      "source": [
        "print(\"For training example No\", (i+1), \"hypothesis is\", hypothesis)\n",
        "print(\"\\n The Maximally Specific Hypothesis for a given Training Examples : \\n\")\n",
        "print(hypothesis)"
      ],
      "metadata": {
        "colab": {
          "base_uri": "https://localhost:8080/"
        },
        "id": "a0hiTNrEqSD-",
        "outputId": "aee8869b-0be6-4361-b8ca-77a0d192c214"
      },
      "execution_count": null,
      "outputs": [
        {
          "output_type": "stream",
          "name": "stdout",
          "text": [
            "For training example No 4 hypothesis is ['sunny', 'warm', '?', 'strong', '?', '?']\n",
            "\n",
            " The Maximally Specific Hypothesis for a given Training Examples : \n",
            "\n",
            "['sunny', 'warm', '?', 'strong', '?', '?']\n"
          ]
        }
      ]
    },
    {
      "cell_type": "code",
      "source": [],
      "metadata": {
        "id": "B91tRXkdtT1b"
      },
      "execution_count": null,
      "outputs": []
    }
  ]
}