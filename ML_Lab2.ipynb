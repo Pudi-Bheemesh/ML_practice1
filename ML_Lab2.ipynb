{
  "nbformat": 4,
  "nbformat_minor": 0,
  "metadata": {
    "colab": {
      "provenance": [],
      "authorship_tag": "ABX9TyMd1Eqns1cbRQcFEYxxb0QV",
      "include_colab_link": true
    },
    "kernelspec": {
      "name": "python3",
      "display_name": "Python 3"
    },
    "language_info": {
      "name": "python"
    }
  },
  "cells": [
    {
      "cell_type": "markdown",
      "metadata": {
        "id": "view-in-github",
        "colab_type": "text"
      },
      "source": [
        "<a href=\"https://colab.research.google.com/github/Pudi-Bheemesh/ML_practice1/blob/main/ML_Lab2.ipynb\" target=\"_parent\"><img src=\"https://colab.research.google.com/assets/colab-badge.svg\" alt=\"Open In Colab\"/></a>"
      ]
    },
    {
      "cell_type": "code",
      "execution_count": null,
      "metadata": {
        "id": "oY2exz3KOxMW"
      },
      "outputs": [],
      "source": [
        "import numpy as np\n",
        "import pandas as pd"
      ]
    },
    {
      "cell_type": "code",
      "source": [
        "data = pd.DataFrame(data=pd.read_csv('/content/sample_data/enjoysport (1).csv'))\n",
        "concepts = np.array(data.iloc[:,0:-1])\n",
        "print(concepts)\n",
        "target = np.array(data.iloc[:,-1])\n",
        "print(target)"
      ],
      "metadata": {
        "colab": {
          "base_uri": "https://localhost:8080/"
        },
        "id": "V57wg6f_O7q9",
        "outputId": "68e54974-2e95-48ad-9eda-6f656f9c0c9f"
      },
      "execution_count": null,
      "outputs": [
        {
          "output_type": "stream",
          "name": "stdout",
          "text": [
            "[['sunny' 'warm' 'high' 'strong' 'warm' 'same']\n",
            " ['rainy' 'cold' 'high' 'strong' 'warm' 'change']\n",
            " ['sunny' 'warm' 'high' 'strong' 'cool' 'change']]\n",
            "['Yes' 'No' 'Yes']\n"
          ]
        }
      ]
    },
    {
      "cell_type": "code",
      "source": [
        "def learn(concepts, target):\n",
        "  specific_h = concepts[0].copy()\n",
        "  general_h = [[\"?\" for i in range(len(specific_h))] for i in range(len(specific_h))]\n",
        "\n",
        "  print(\"initialization of specific_h and general_h:\")\n",
        "  print(specific_h)\n",
        "  print(general_h)\n",
        "\n",
        "  for i, h in enumerate(concepts):\n",
        "    if target[i] == \"yes\":\n",
        "      for x in range(len(specific_h)):\n",
        "        if h[x]!= specific_h[x]:\n",
        "          specific_h[x] ='?'\n",
        "          general_h[x][x] ='?'\n",
        "        print(specific_h)\n",
        "    print(specific_h)\n",
        "    if target[i] == \"no\":\n",
        "      for x in range(len(specific_h)):\n",
        "        if h[x]!= specific_h[x]:\n",
        "          general_h[x][x] = specific_h[x]\n",
        "        else:\n",
        "          general_h[x][x] = '?'\n",
        "    print(\" steps of Candidate Elimination Algorithm\",i+1)\n",
        "    print(specific_h)\n",
        "    print(general_h)\n",
        "    indices = [i for i, val in enumerate(general_h) if val == ['?', '?', '?', '?', '?', '?']]\n",
        "    for i in indices:\n",
        "      general_h.remove(['?', '?', '?', '?', '?', '?'])\n",
        "    return specific_h, general_h"
      ],
      "metadata": {
        "id": "nv8NierjPMKx"
      },
      "execution_count": null,
      "outputs": []
    },
    {
      "cell_type": "code",
      "source": [
        "s_final, g_final = learn(concepts, target)\n",
        "print(\"Final Specific_h:\", s_final, sep=\"\\n\")\n",
        "print(\"Final General_h:\", g_final, sep=\"\\n\")"
      ],
      "metadata": {
        "colab": {
          "base_uri": "https://localhost:8080/"
        },
        "id": "bYrcFC8kQXnz",
        "outputId": "22427da8-8be7-4c1e-9451-72a72afce12c"
      },
      "execution_count": null,
      "outputs": [
        {
          "output_type": "stream",
          "name": "stdout",
          "text": [
            "initialization of specific_h and general_h:\n",
            "['sunny' 'warm' 'high' 'strong' 'warm' 'same']\n",
            "[['?', '?', '?', '?', '?', '?'], ['?', '?', '?', '?', '?', '?'], ['?', '?', '?', '?', '?', '?'], ['?', '?', '?', '?', '?', '?'], ['?', '?', '?', '?', '?', '?'], ['?', '?', '?', '?', '?', '?']]\n",
            "['sunny' 'warm' 'high' 'strong' 'warm' 'same']\n",
            " steps of Candidate Elimination Algorithm 1\n",
            "['sunny' 'warm' 'high' 'strong' 'warm' 'same']\n",
            "[['?', '?', '?', '?', '?', '?'], ['?', '?', '?', '?', '?', '?'], ['?', '?', '?', '?', '?', '?'], ['?', '?', '?', '?', '?', '?'], ['?', '?', '?', '?', '?', '?'], ['?', '?', '?', '?', '?', '?']]\n",
            "Final Specific_h:\n",
            "['sunny' 'warm' 'high' 'strong' 'warm' 'same']\n",
            "Final General_h:\n",
            "[]\n"
          ]
        }
      ]
    },
    {
      "cell_type": "code",
      "source": [],
      "metadata": {
        "id": "Pm6mQlCiQa1n"
      },
      "execution_count": null,
      "outputs": []
    }
  ]
}