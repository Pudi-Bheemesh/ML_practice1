{
  "nbformat": 4,
  "nbformat_minor": 0,
  "metadata": {
    "colab": {
      "provenance": [],
      "authorship_tag": "ABX9TyMhynLHlYArDX413fOYvzZS",
      "include_colab_link": true
    },
    "kernelspec": {
      "name": "python3",
      "display_name": "Python 3"
    },
    "language_info": {
      "name": "python"
    }
  },
  "cells": [
    {
      "cell_type": "markdown",
      "metadata": {
        "id": "view-in-github",
        "colab_type": "text"
      },
      "source": [
        "<a href=\"https://colab.research.google.com/github/Pudi-Bheemesh/ML_practice1/blob/main/ML_Lab3.ipynb\" target=\"_parent\"><img src=\"https://colab.research.google.com/assets/colab-badge.svg\" alt=\"Open In Colab\"/></a>"
      ]
    },
    {
      "cell_type": "code",
      "execution_count": null,
      "metadata": {
        "id": "gQ8UnGieQ6ks"
      },
      "outputs": [],
      "source": [
        "import math\n",
        "import csv"
      ]
    },
    {
      "cell_type": "code",
      "source": [
        "def load_csv(filename):\n",
        "  lines=csv.reader(open(filename,\"r\"));\n",
        "  dataset = list(lines)\n",
        "  headers = dataset.pop(0)\n",
        "  return dataset,headers"
      ],
      "metadata": {
        "id": "TNJWyCC5RHbC"
      },
      "execution_count": null,
      "outputs": []
    },
    {
      "cell_type": "code",
      "source": [
        "class Node:\n",
        "  def __init__(self,attribute):\n",
        "    self.attribute=attribute\n",
        "    self.children=[]\n",
        "    self.answer=\"\""
      ],
      "metadata": {
        "id": "elQHBic8RXjw"
      },
      "execution_count": null,
      "outputs": []
    },
    {
      "cell_type": "code",
      "source": [
        "def subtables(data,col,delete):\n",
        "  dic={}\n",
        "  coldata=[row[col] for row in data]\n",
        "  attr=list(set(coldata))\n",
        "  counts=[0]*len(attr)\n",
        "  r=len(data)\n",
        "  c=len(data[0])\n",
        "  for x in range(len(attr)):\n",
        "    for y in range(r):\n",
        "      if data[y][col]==attr[x]:\n",
        "        counts[x]+=1\n",
        "  for x in range(len(attr)):\n",
        "    dic[attr[x]]=[[0 for i in range(c)] for j in range(counts[x])]\n",
        "    pos=0\n",
        "    for y in range(r):\n",
        "      if data[y][col]==attr[x]:\n",
        "        if delete:\n",
        "          del data[y][col]\n",
        "        dic[attr[x]][pos]=data[y]\n",
        "        pos+=1\n",
        "  return attr,dic"
      ],
      "metadata": {
        "id": "LOttKKsCReor"
      },
      "execution_count": null,
      "outputs": []
    },
    {
      "cell_type": "code",
      "source": [
        "def entropy(S):\n",
        "  attr=list(set(S))\n",
        "  if len(attr)==1:\n",
        "    return 0\n",
        "\n",
        "  counts=[0,0]\n",
        "  for i in range(2):\n",
        "    counts[i]=sum([1 for x in S if attr[i]==x])/(len(S)*1.0)\n",
        "  sums=0\n",
        "  for cnt in counts:\n",
        "    sums+=-1*cnt*math.log(cnt,2)\n",
        "  return sums"
      ],
      "metadata": {
        "id": "V8Vjx3UPSR0b"
      },
      "execution_count": null,
      "outputs": []
    },
    {
      "cell_type": "code",
      "source": [
        "def compute_gain(data,col):\n",
        "  attr,dic = subtables(data,col,delete=False)\n",
        "  total_size=len(data)\n",
        "  entropies=[0]*len(attr)\n",
        "  ratio=[0]*len(attr)\n",
        "  total_entropy=entropy([row[-1] for row in data])\n",
        "  for x in range(len(attr)):\n",
        "    ratio[x]=len(dic[attr[x]])/(total_size*1.0)\n",
        "    entropies[x]=entropy([row[-1] for row in dic[attr[x]]])\n",
        "    total_entropy-=ratio[x]*entropies[x]\n",
        "  return total_entropy"
      ],
      "metadata": {
        "id": "jtXFmIaZSjmf"
      },
      "execution_count": null,
      "outputs": []
    },
    {
      "cell_type": "code",
      "source": [
        "def build_tree(data,features):\n",
        "  lastcol=[row[-1] for row in data]\n",
        "  if(len(set(lastcol)))==1:\n",
        "    node=Node(\"\")\n",
        "    node.answer=lastcol[0]\n",
        "    return node\n",
        "  n=len(data[0])-1\n",
        "  gains=[0]*n\n",
        "  for col in range(n):\n",
        "    gains[col]=compute_gain(data,col)\n",
        "  split=gains.index(max(gains))\n",
        "  node=Node(features[split])\n",
        "  fea = features[:split]+features[split+1:]\n",
        "  attr,dic=subtables(data,split,delete=True)\n",
        "  for x in range(len(attr)):\n",
        "    child=build_tree(dic[attr[x]],fea)\n",
        "    node.children.append((attr[x],child))\n",
        "  return node"
      ],
      "metadata": {
        "id": "pyWuznabS02C"
      },
      "execution_count": null,
      "outputs": []
    },
    {
      "cell_type": "code",
      "source": [
        "def print_tree(node,level):\n",
        "  if node.answer!=\"\":\n",
        "    print(\" \"*level,node.answer)\n",
        "    return\n",
        "  print(\" \"*level,node.attribute)\n",
        "  for value,n in node.children:\n",
        "    print(\" \"*(level+1),value)\n",
        "    print_tree(n,level+2)"
      ],
      "metadata": {
        "id": "1rQKVUDJTrJ9"
      },
      "execution_count": null,
      "outputs": []
    },
    {
      "cell_type": "code",
      "source": [
        "def classify(node,x_test,features):\n",
        "  if node.answer!=\"\":\n",
        "    print(node.answer)\n",
        "    return\n",
        "  pos=features.index(node.attribute)\n",
        "  for value, n in node.children:\n",
        "    if x_test[pos]==value:\n",
        "      classify(n,x_test,features)"
      ],
      "metadata": {
        "id": "qevlDK2RUDOA"
      },
      "execution_count": null,
      "outputs": []
    },
    {
      "cell_type": "code",
      "source": [
        "'''Main program'''\n",
        "dataset,features=load_csv(\"data3.csv\")\n",
        "node1=build_tree(dataset,features)\n",
        "print(\"The decision tree for the dataset using ID3 algorithm is\")\n",
        "print_tree(node1,0)\n",
        "testdata,features=load_csv(\"data3_test.csv\")\n",
        "for xtest in testdata:\n",
        "  print(\"The test instance:\",xtest)\n",
        "  print(\"The label for test instance:\",end=\" \")\n",
        "  classify(node1,xtest,features)"
      ],
      "metadata": {
        "id": "zRCwkxQRUj3K"
      },
      "execution_count": null,
      "outputs": []
    }
  ]
}